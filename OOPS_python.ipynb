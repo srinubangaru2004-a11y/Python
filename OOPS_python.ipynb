{
  "nbformat": 4,
  "nbformat_minor": 0,
  "metadata": {
    "colab": {
      "provenance": [],
      "authorship_tag": "ABX9TyPeClhVim8eFJ2TQN+JMpPZ",
      "include_colab_link": true
    },
    "kernelspec": {
      "name": "python3",
      "display_name": "Python 3"
    },
    "language_info": {
      "name": "python"
    }
  },
  "cells": [
    {
      "cell_type": "markdown",
      "metadata": {
        "id": "view-in-github",
        "colab_type": "text"
      },
      "source": [
        "<a href=\"https://colab.research.google.com/github/pamumeghana45-cell/python/blob/main/OOPS_python.ipynb\" target=\"_parent\"><img src=\"https://colab.research.google.com/assets/colab-badge.svg\" alt=\"Open In Colab\"/></a>"
      ]
    },
    {
      "cell_type": "code",
      "execution_count": 1,
      "metadata": {
        "colab": {
          "base_uri": "https://localhost:8080/"
        },
        "id": "f_At3Lhkeabt",
        "outputId": "1df43cf8-beba-4cab-8b93-bc462da31752"
      },
      "outputs": [
        {
          "output_type": "stream",
          "name": "stdout",
          "text": [
            "--- Car Class Demonstration ---\n",
            "My car: Toyota Camry (2022)\n",
            "The 2022 Toyota Camry is starting.\n",
            "The 2022 Toyota Camry is already running.\n",
            "The 2022 Toyota Camry is stopping.\n",
            "The 2022 Toyota Camry is already stopped.\n"
          ]
        }
      ],
      "source": [
        "class Car:\n",
        "    def __init__(self, make, model, year):\n",
        "        self.make = make\n",
        "        self.model = model\n",
        "        self.year = year\n",
        "        self.is_started = False\n",
        "\n",
        "    def start(self):\n",
        "        if not self.is_started:\n",
        "            print(f\"The {self.year} {self.make} {self.model} is starting.\")\n",
        "            self.is_started = True\n",
        "        else:\n",
        "            print(f\"The {self.year} {self.make} {self.model} is already running.\")\n",
        "\n",
        "    def stop(self):\n",
        "        if self.is_started:\n",
        "            print(f\"The {self.year} {self.make} {self.model} is stopping.\")\n",
        "            self.is_started = False\n",
        "        else:\n",
        "            print(f\"The {self.year} {self.make} {self.model} is already stopped.\")\n",
        "\n",
        "# Demonstrating the Car class\n",
        "print(\"--- Car Class Demonstration ---\")\n",
        "my_car = Car(\"Toyota\", \"Camry\", 2022)\n",
        "print(f\"My car: {my_car.make} {my_car.model} ({my_car.year})\")\n",
        "\n",
        "my_car.start()\n",
        "my_car.start()\n",
        "my_car.stop()\n",
        "my_car.stop()"
      ]
    },
    {
      "cell_type": "code",
      "source": [
        "class Animal:\n",
        "    def __init__(self, name):\n",
        "        self.name = name\n",
        "\n",
        "    def eat(self):\n",
        "        print(f\"{self.name} is eating.\")\n",
        "\n",
        "    def sleep(self):\n",
        "        print(f\"{self.name} is sleeping.\")\n",
        "\n",
        "class Dog(Animal):\n",
        "    def bark(self):\n",
        "        print(f\"{self.name} says Woof!\")\n",
        "\n",
        "class Cat(Animal):\n",
        "    def meow(self):\n",
        "        print(f\"{self.name} says Meow!\")\n",
        "\n",
        "dog1 = Dog(\"Buddy\")\n",
        "cat1 = Cat(\"Whiskers\")\n",
        "\n",
        "dog1.eat()\n",
        "dog1.sleep()\n",
        "cat1.eat()\n",
        "cat1.sleep()\n",
        "\n",
        "dog1.bark()\n",
        "cat1.meow()"
      ],
      "metadata": {
        "colab": {
          "base_uri": "https://localhost:8080/"
        },
        "id": "cQ02R3y1elgr",
        "outputId": "5552aa23-9913-435e-a627-7768f41f47b2"
      },
      "execution_count": 2,
      "outputs": [
        {
          "output_type": "stream",
          "name": "stdout",
          "text": [
            "Buddy is eating.\n",
            "Buddy is sleeping.\n",
            "Whiskers is eating.\n",
            "Whiskers is sleeping.\n",
            "Buddy says Woof!\n",
            "Whiskers says Meow!\n"
          ]
        }
      ]
    },
    {
      "cell_type": "code",
      "source": [
        "def safe_divide(numerator, denominator):\n",
        "    try:\n",
        "        result = numerator / denominator\n",
        "        print(f\"The result of {numerator} / {denominator} is: {result}\")\n",
        "    except ZeroDivisionError:\n",
        "        print(f\"Error: Cannot divide by zero! Attempted {numerator} / {denominator}\")\n",
        "    except TypeError:\n",
        "        print(\"Error: Invalid input types. Please provide numbers.\")\n",
        "\n",
        "print(\"--- Error Handling Demonstration ---\")\n",
        "safe_divide(10, 2)\n",
        "safe_divide(10, 0)\n",
        "safe_divide(5, \"abc\")\n",
        ""
      ],
      "metadata": {
        "colab": {
          "base_uri": "https://localhost:8080/"
        },
        "id": "-LWHcQPbeuBW",
        "outputId": "fb8402ed-8b1e-4132-de50-e46ad3a5ceab"
      },
      "execution_count": 3,
      "outputs": [
        {
          "output_type": "stream",
          "name": "stdout",
          "text": [
            "--- Error Handling Demonstration ---\n",
            "The result of 10 / 2 is: 5.0\n",
            "Error: Cannot divide by zero! Attempted 10 / 0\n",
            "Error: Invalid input types. Please provide numbers.\n"
          ]
        }
      ]
    },
    {
      "cell_type": "code",
      "source": [
        "class Animal:\n",
        "    def make_sound(self):\n",
        "        raise NotImplementedError(\"Subclass must implement abstract method 'make_sound'\")\n",
        "\n",
        "class Dog(Animal):\n",
        "    def make_sound(self):\n",
        "        return \"Woof! Woof!\"\n",
        "\n",
        "class Cat(Animal):\n",
        "    def make_sound(self):\n",
        "        return \"Meow!\"\n",
        "\n",
        "class Bird(Animal):\n",
        "    def make_sound(self):\n",
        "        return \"Chirp! Chirp!\"\n",
        "\n",
        "print(\"--- Polymorphism Demonstration ---\")\n",
        "animals = [Dog(), Cat(), Bird()]\n",
        "\n",
        "for animal in animals:\n",
        "    print(f\"An animal makes sound: {animal.make_sound()}\")\n",
        ""
      ],
      "metadata": {
        "colab": {
          "base_uri": "https://localhost:8080/"
        },
        "id": "4HGKoLREe5aj",
        "outputId": "143fb37e-9869-4186-8935-4bdf27e63dfc"
      },
      "execution_count": 5,
      "outputs": [
        {
          "output_type": "stream",
          "name": "stdout",
          "text": [
            "--- Polymorphism Demonstration ---\n",
            "An animal makes sound: Woof! Woof!\n",
            "An animal makes sound: Meow!\n",
            "An animal makes sound: Chirp! Chirp!\n"
          ]
        }
      ]
    }
  ]
}
