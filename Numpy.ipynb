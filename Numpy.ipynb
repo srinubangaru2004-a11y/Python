{
  "nbformat": 4,
  "nbformat_minor": 0,
  "metadata": {
    "colab": {
      "provenance": [],
      "authorship_tag": "ABX9TyOUfFHvV/zCeadtuZOi66xJ",
      "include_colab_link": true
    },
    "kernelspec": {
      "name": "python3",
      "display_name": "Python 3"
    },
    "language_info": {
      "name": "python"
    }
  },
  "cells": [
    {
      "cell_type": "markdown",
      "metadata": {
        "id": "view-in-github",
        "colab_type": "text"
      },
      "source": [
        "<a href=\"https://colab.research.google.com/github/pamumeghana45-cell/python/blob/main/Numpy.ipynb\" target=\"_parent\"><img src=\"https://colab.research.google.com/assets/colab-badge.svg\" alt=\"Open In Colab\"/></a>"
      ]
    },
    {
      "cell_type": "code",
      "execution_count": 1,
      "metadata": {
        "colab": {
          "base_uri": "https://localhost:8080/"
        },
        "id": "zeS5toEsdKEy",
        "outputId": "feb07f22-594b-43d9-8ce1-1fa2605f4b33"
      },
      "outputs": [
        {
          "output_type": "stream",
          "name": "stdout",
          "text": [
            "Help on ufunc:\n",
            "\n",
            "add = <ufunc 'add'>\n",
            "    add(x1, x2, /, out=None, *, where=True, casting='same_kind', order='K', dtype=None, subok=True[, signature])\n",
            "\n",
            "    Add arguments element-wise.\n",
            "\n",
            "    Parameters\n",
            "    ----------\n",
            "    x1, x2 : array_like\n",
            "        The arrays to be added.\n",
            "        If ``x1.shape != x2.shape``, they must be broadcastable to a common\n",
            "        shape (which becomes the shape of the output).\n",
            "    out : ndarray, None, or tuple of ndarray and None, optional\n",
            "        A location into which the result is stored. If provided, it must have\n",
            "        a shape that the inputs broadcast to. If not provided or None,\n",
            "        a freshly-allocated array is returned. A tuple (possible only as a\n",
            "        keyword argument) must have length equal to the number of outputs.\n",
            "    where : array_like, optional\n",
            "        This condition is broadcast over the input. At locations where the\n",
            "        condition is True, the `out` array will be set to the ufunc result.\n",
            "        Elsewhere, the `out` array will retain its original value.\n",
            "        Note that if an uninitialized `out` array is created via the default\n",
            "        ``out=None``, locations within it where the condition is False will\n",
            "        remain uninitialized.\n",
            "    **kwargs\n",
            "        For other keyword-only arguments, see the\n",
            "        :ref:`ufunc docs <ufuncs.kwargs>`.\n",
            "\n",
            "    Returns\n",
            "    -------\n",
            "    add : ndarray or scalar\n",
            "        The sum of `x1` and `x2`, element-wise.\n",
            "        This is a scalar if both `x1` and `x2` are scalars.\n",
            "\n",
            "    Notes\n",
            "    -----\n",
            "    Equivalent to `x1` + `x2` in terms of array broadcasting.\n",
            "\n",
            "    Examples\n",
            "    --------\n",
            "    >>> np.add(1.0, 4.0)\n",
            "    5.0\n",
            "    >>> x1 = np.arange(9.0).reshape((3, 3))\n",
            "    >>> x2 = np.arange(3.0)\n",
            "    >>> np.add(x1, x2)\n",
            "    array([[  0.,   2.,   4.],\n",
            "           [  3.,   5.,   7.],\n",
            "           [  6.,   8.,  10.]])\n",
            "\n",
            "    The ``+`` operator can be used as a shorthand for ``np.add`` on ndarrays.\n",
            "\n",
            "    >>> x1 = np.arange(9.0).reshape((3, 3))\n",
            "    >>> x2 = np.arange(3.0)\n",
            "    >>> x1 + x2\n",
            "    array([[ 0.,  2.,  4.],\n",
            "           [ 3.,  5.,  7.],\n",
            "           [ 6.,  8., 10.]])\n",
            "\n"
          ]
        }
      ],
      "source": [
        "import numpy as np\n",
        "# a. Help on the add function\n",
        "help(np.add)\n",
        ""
      ]
    },
    {
      "cell_type": "code",
      "source": [
        "# b. Test whether none of the elements of a given array is zero\n",
        "import numpy as np\n",
        "arr1 = np.array([1, 2, 3, 4])\n",
        "print(\"None of the elements is zero:\", np.all(arr1 != 0))\n",
        ""
      ],
      "metadata": {
        "colab": {
          "base_uri": "https://localhost:8080/"
        },
        "id": "1HD4kYyIdZU4",
        "outputId": "ea79368b-f1d3-4242-96c4-316207b15f50"
      },
      "execution_count": 2,
      "outputs": [
        {
          "output_type": "stream",
          "name": "stdout",
          "text": [
            "None of the elements is zero: True\n"
          ]
        }
      ]
    },
    {
      "cell_type": "code",
      "source": [
        "# c. Element-wise comparison of two arrays\n",
        "import numpy as np\n",
        "arr2 = np.array([2, 2, 3, 5])\n",
        "print(\"Greater:\", np.greater(arr1, arr2))\n",
        "print(\"Greater Equal:\", np.greater_equal(arr1, arr2))\n",
        "print(\"Less:\", np.less(arr1, arr2))\n",
        "print(\"Less Equal:\", np.less_equal(arr1, arr2))\n",
        "print(\"Equal:\", np.equal(arr1, arr2))\n",
        "print(\"Equal within tolerance:\", np.allclose(arr1, arr2, atol=1))\n",
        "# Convert to list\n",
        "print(\"Array to list:\", arr1.tolist())\n",
        "\n",
        ""
      ],
      "metadata": {
        "colab": {
          "base_uri": "https://localhost:8080/"
        },
        "id": "WYgUGtj1dv68",
        "outputId": "6187580d-dfed-4591-a5db-7420e6fa65d4"
      },
      "execution_count": 3,
      "outputs": [
        {
          "output_type": "stream",
          "name": "stdout",
          "text": [
            "Greater: [False False False False]\n",
            "Greater Equal: [False  True  True False]\n",
            "Less: [ True False False  True]\n",
            "Less Equal: [ True  True  True  True]\n",
            "Equal: [False  True  True False]\n",
            "Equal within tolerance: True\n",
            "Array to list: [1, 2, 3, 4]\n"
          ]
        }
      ]
    },
    {
      "cell_type": "code",
      "source": [
        "# Sample array\n",
        "arr = np.array([[10, 20, 5], [30, 15, 25]])\n",
        "# a. Extract numbers less than and greater than a specified number\n",
        "specified_number = 18\n",
        "less_than = arr[arr < specified_number]\n",
        "greater_than = arr[arr > specified_number]\n",
        "print(\"Less than 18:\", less_than)\n",
        "print(\"Greater than 18:\", greater_than)\n"
      ],
      "metadata": {
        "colab": {
          "base_uri": "https://localhost:8080/"
        },
        "id": "NghKmrxTd1ks",
        "outputId": "ca3b061d-e517-46de-ccb3-41ef426e2f5f"
      },
      "execution_count": 4,
      "outputs": [
        {
          "output_type": "stream",
          "name": "stdout",
          "text": [
            "Less than 18: [10  5 15]\n",
            "Greater than 18: [20 30 25]\n"
          ]
        }
      ]
    },
    {
      "cell_type": "code",
      "source": [
        " #b. Indices of max and min along axis\n",
        "import numpy as np\n",
        "# Create a sample 2D NumPy array\n",
        "arr = np.array([[10, 20, 5],\n",
        "                [15, 3, 25],\n",
        "                [30, 8, 12]])\n",
        "\n",
        "print(\"Original array:\")\n",
        "print(arr)\n",
        "\n",
        "# Find the indices of the maximum values along each row (axis=1)\n",
        "max_indices = np.argmax(arr, axis=1)\n",
        "\n",
        "# Find the indices of the minimum values along each row (axis=1)\n",
        "min_indices = np.argmin(arr, axis=1)\n",
        "\n",
        "print(\"\\nIndices of the maximum values along each row:\", max_indices)\n",
        "print(\"Indices of the minimum values along each row:\", min_indices)\n",
        "\n",
        "# To verify, you can use these indices to get the actual max and min values\n",
        "max_values = arr[np.arange(len(arr)), max_indices]\n",
        "min_values = arr[np.arange(len(arr)), min_indices]\n",
        "\n",
        "print(\"\\nMaximum values:\", max_values)\n",
        "print(\"Minimum values:\", min_values)\n",
        ""
      ],
      "metadata": {
        "colab": {
          "base_uri": "https://localhost:8080/"
        },
        "id": "d-xLcpC2d7vM",
        "outputId": "90bc8ebc-a808-4aa1-c9a2-806c971521d9"
      },
      "execution_count": 6,
      "outputs": [
        {
          "output_type": "stream",
          "name": "stdout",
          "text": [
            "Original array:\n",
            "[[10 20  5]\n",
            " [15  3 25]\n",
            " [30  8 12]]\n",
            "\n",
            "Indices of the maximum values along each row: [1 2 0]\n",
            "Indices of the minimum values along each row: [2 1 1]\n",
            "\n",
            "Maximum values: [20 25 30]\n",
            "Minimum values: [5 3 8]\n"
          ]
        }
      ]
    },
    {
      "cell_type": "markdown",
      "source": [],
      "metadata": {
        "id": "HNiKsD8Qdmvv"
      }
    }
  ]
}
