{
  "nbformat": 4,
  "nbformat_minor": 0,
  "metadata": {
    "colab": {
      "provenance": [],
      "authorship_tag": "ABX9TyMzHQZEgpbSZ06HkH8sA7uN",
      "include_colab_link": true
    },
    "kernelspec": {
      "name": "python3",
      "display_name": "Python 3"
    },
    "language_info": {
      "name": "python"
    }
  },
  "cells": [
    {
      "cell_type": "markdown",
      "metadata": {
        "id": "view-in-github",
        "colab_type": "text"
      },
      "source": [
        "<a href=\"https://colab.research.google.com/github/pamumeghana45-cell/python/blob/main/Introduction_to_Python.ipynb\" target=\"_parent\"><img src=\"https://colab.research.google.com/assets/colab-badge.svg\" alt=\"Open In Colab\"/></a>"
      ]
    },
    {
      "cell_type": "code",
      "execution_count": 1,
      "metadata": {
        "colab": {
          "base_uri": "https://localhost:8080/"
        },
        "id": "zqR6mGWiheW6",
        "outputId": "133df463-2b93-4dbe-a82b-5f5d5c344740"
      },
      "outputs": [
        {
          "output_type": "stream",
          "name": "stdout",
          "text": [
            "Enter the weight in kilograms: 200\n",
            "The weight in pounds is: 440.92\n"
          ]
        }
      ],
      "source": [
        "def kg_to_pounds():\n",
        "  #Converts a weight entered in kilograms to pounds.\n",
        "  try:\n",
        "      kilograms = float(input(\"Enter the weight in kilograms: \"))\n",
        "      pounds = kilograms * 2.20462\n",
        "      print(f\"The weight in pounds is: {pounds:.2f}\")\n",
        "  except ValueError:\n",
        "      print(\"Invalid input. Please enter a numerical value for weight.\")\n",
        "# Call the function directly to run the conversion\n",
        "kg_to_pounds()\n",
        "\n",
        ""
      ]
    },
    {
      "cell_type": "code",
      "source": [
        "print(\"Using a while loop:\")\n",
        "num_while = 8\n",
        "while num_while <= 89:\n",
        "  print(num_while)\n",
        "  num_while += 3\n"
      ],
      "metadata": {
        "colab": {
          "base_uri": "https://localhost:8080/"
        },
        "id": "zPCQd9YohwYf",
        "outputId": "27214ca2-c239-4853-cc45-001f33bd9a46"
      },
      "execution_count": 2,
      "outputs": [
        {
          "output_type": "stream",
          "name": "stdout",
          "text": [
            "Using a while loop:\n",
            "8\n",
            "11\n",
            "14\n",
            "17\n",
            "20\n",
            "23\n",
            "26\n",
            "29\n",
            "32\n",
            "35\n",
            "38\n",
            "41\n",
            "44\n",
            "47\n",
            "50\n",
            "53\n",
            "56\n",
            "59\n",
            "62\n",
            "65\n",
            "68\n",
            "71\n",
            "74\n",
            "77\n",
            "80\n",
            "83\n",
            "86\n",
            "89\n"
          ]
        }
      ]
    },
    {
      "cell_type": "code",
      "source": [
        "print(\"Using a for loop:\")\n",
        "for num in range(8, 90, 3):\n",
        "     print(num)\n",
        ""
      ],
      "metadata": {
        "colab": {
          "base_uri": "https://localhost:8080/"
        },
        "id": "NWAufMcoh1ai",
        "outputId": "12de8e30-6b7c-4bf6-b4fb-3398a3446034"
      },
      "execution_count": 3,
      "outputs": [
        {
          "output_type": "stream",
          "name": "stdout",
          "text": [
            "Using a for loop:\n",
            "8\n",
            "11\n",
            "14\n",
            "17\n",
            "20\n",
            "23\n",
            "26\n",
            "29\n",
            "32\n",
            "35\n",
            "38\n",
            "41\n",
            "44\n",
            "47\n",
            "50\n",
            "53\n",
            "56\n",
            "59\n",
            "62\n",
            "65\n",
            "68\n",
            "71\n",
            "74\n",
            "77\n",
            "80\n",
            "83\n",
            "86\n",
            "89\n"
          ]
        }
      ]
    },
    {
      "cell_type": "code",
      "source": [
        "def fibonacci(n):\n",
        "    if n <= 0:\n",
        "        return \"Input must be a positive integer\"\n",
        "    elif n == 1:\n",
        "        return 0\n",
        "    elif n == 2:\n",
        "        return 1\n",
        "    else:\n",
        "        return fibonacci(n-1) + fibonacci(n-2)\n",
        "\n",
        "n = 10\n",
        "print(f\"The {n}th Fibonacci number is: {fibonacci(n)}\")\n",
        ""
      ],
      "metadata": {
        "colab": {
          "base_uri": "https://localhost:8080/"
        },
        "id": "fpzOHVJwh6YY",
        "outputId": "4904c18c-8375-4473-81d0-da4b3c5828bb"
      },
      "execution_count": 4,
      "outputs": [
        {
          "output_type": "stream",
          "name": "stdout",
          "text": [
            "The 10th Fibonacci number is: 34\n"
          ]
        }
      ]
    },
    {
      "cell_type": "code",
      "source": [
        "my_string = input(\"Enter a String:\")\n",
        "char_list = list(my_string)\n",
        "print(char_list)"
      ],
      "metadata": {
        "colab": {
          "base_uri": "https://localhost:8080/"
        },
        "id": "tD_hPuUIiACI",
        "outputId": "e08eba7a-39d2-4d94-d1d4-6c0e677a0f1c"
      },
      "execution_count": 5,
      "outputs": [
        {
          "output_type": "stream",
          "name": "stdout",
          "text": [
            "Enter a String:megha\n",
            "['m', 'e', 'g', 'h', 'a']\n"
          ]
        }
      ]
    },
    {
      "cell_type": "code",
      "source": [
        "def get_largest_number(numbers):\n",
        "    if not numbers:\n",
        "        return None\n",
        "    largest = numbers[0]\n",
        "    for num in numbers[1:]:\n",
        "        if num > largest:\n",
        "            largest = num\n",
        "    return largest\n",
        "\n",
        "my_list = [10, 45, 2, 99, 67, 88]\n",
        "largest_number = get_largest_number(my_list)\n",
        "print(\"The largest number is:\", largest_number)\n",
        "\n"
      ],
      "metadata": {
        "colab": {
          "base_uri": "https://localhost:8080/"
        },
        "id": "jV9T-3S1iIeB",
        "outputId": "de32d2a3-5efb-4eff-ed7d-2c9f4648fd69"
      },
      "execution_count": 6,
      "outputs": [
        {
          "output_type": "stream",
          "name": "stdout",
          "text": [
            "The largest number is: 99\n"
          ]
        }
      ]
    }
  ]
}
